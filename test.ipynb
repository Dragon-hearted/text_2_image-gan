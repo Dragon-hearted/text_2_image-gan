{
 "cells": [
  {
   "cell_type": "code",
   "execution_count": 27,
   "metadata": {},
   "outputs": [],
   "source": [
    "import numpy as np\n",
    "import tensorflow as tf\n",
    "import matplotlib.pyplot as plt\n",
    "from tensorflow.keras.layers import Input, Dense, Reshape, LeakyReLU, BatchNormalization, Concatenate, Lambda, Activation\n",
    "from tensorflow.keras.models import Model\n",
    "from tensorflow.keras.optimizers import Adam\n"
   ]
  },
  {
   "cell_type": "code",
   "execution_count": 28,
   "metadata": {},
   "outputs": [],
   "source": [
    "from toImportFunc import load_data"
   ]
  },
  {
   "cell_type": "code",
   "execution_count": 29,
   "metadata": {},
   "outputs": [],
   "source": [
    "# Define directories and file paths\n",
    "dataset_directory = \"dataset/\"\n",
    "testing_directory = dataset_directory + \"/test\"\n",
    "\n",
    "embeddings_test_path = testing_directory + \"/embeddings.pickle\"\n",
    "filenames_test_path = testing_directory + \"/names.pickle\"\n",
    "class_info_test_path = testing_directory + \"/class_info.pickle\"\n",
    "\n",
    "CUB_dataset_directory = \"CUB_200_2011/CUB_200_2011\""
   ]
  },
  {
   "cell_type": "code",
   "execution_count": 30,
   "metadata": {},
   "outputs": [
    {
     "name": "stdout",
     "output_type": "stream",
     "text": [
      "Embeddings shape: (2933, 10, 1024)\n",
      "All embeddings shape: (2933, 10, 1024)\n"
     ]
    }
   ],
   "source": [
    "# Load testing data\n",
    "_, _, embeddings_test = load_data(filenames_path=filenames_test_path,\n",
    "                                  class_info_path=class_info_test_path,\n",
    "                                  dataset_directory=CUB_dataset_directory,\n",
    "                                  embeddings_path=embeddings_test_path,\n",
    "                                  img_size=(64, 64))\n"
   ]
  },
  {
   "cell_type": "code",
   "execution_count": 31,
   "metadata": {},
   "outputs": [],
   "source": [
    "# Hyperparameters\n",
    "image_size = 64\n",
    "z_dim = 100\n",
    "condition_dim = 128\n",
    "embedding_dim = 1024"
   ]
  },
  {
   "cell_type": "code",
   "execution_count": 32,
   "metadata": {},
   "outputs": [],
   "source": [
    "# Function to generate conditioning vector\n",
    "def generate_c(x):\n",
    "    mean = x[:, :condition_dim]\n",
    "    log_sigma = x[:, condition_dim:]\n",
    "    stddev = tf.exp(log_sigma)\n",
    "    epsilon = tf.random.normal(shape=(tf.shape(mean)[1],))\n",
    "    c = stddev * epsilon + mean\n",
    "    return c\n",
    "\n",
    "# Build the generator model\n",
    "def build_generator():\n",
    "    input_layer = Input(shape=(embedding_dim,))\n",
    "    x = Dense(condition_dim * 2)(input_layer)\n",
    "    mean_logsigma = LeakyReLU(alpha=0.2)(x)\n",
    "    c = Lambda(generate_c)(mean_logsigma)\n",
    "\n",
    "    noise_input = Input(shape=(z_dim,))\n",
    "    gen_input = Concatenate()([c, noise_input])\n",
    "\n",
    "    x = Dense(128 * 8 * 4 * 4, use_bias=False)(gen_input)\n",
    "    x = LeakyReLU(alpha=0.2)(x)\n",
    "    x = Reshape((4, 4, 128 * 8))(x)\n",
    "\n",
    "    x = tf.keras.layers.UpSampling2D(size=(2, 2))(x)\n",
    "    x = tf.keras.layers.Conv2D(512, kernel_size=3, padding=\"same\", strides=1, use_bias=False)(x)\n",
    "    x = BatchNormalization()(x)\n",
    "    x = LeakyReLU(alpha=0.2)(x)\n",
    "\n",
    "    x = tf.keras.layers.UpSampling2D(size=(2, 2))(x)\n",
    "    x = tf.keras.layers.Conv2D(256, kernel_size=3, padding=\"same\", strides=1, use_bias=False)(x)\n",
    "    x = BatchNormalization()(x)\n",
    "    x = LeakyReLU(alpha=0.2)(x)\n",
    "\n",
    "    x = tf.keras.layers.UpSampling2D(size=(2, 2))(x)\n",
    "    x = tf.keras.layers.Conv2D(128, kernel_size=3, padding=\"same\", strides=1, use_bias=False)(x)\n",
    "    x = BatchNormalization()(x)\n",
    "    x = LeakyReLU(alpha=0.2)(x)\n",
    "\n",
    "    x = tf.keras.layers.UpSampling2D(size=(2, 2))(x)\n",
    "    x = tf.keras.layers.Conv2D(64, kernel_size=3, padding=\"same\", strides=1, use_bias=False)(x)\n",
    "    x = BatchNormalization()(x)\n",
    "    x = LeakyReLU(alpha=0.2)(x)\n",
    "\n",
    "    x = tf.keras.layers.Conv2D(3, kernel_size=3, padding=\"same\", strides=1, use_bias=False)(x)\n",
    "    output = Activation('tanh')(x)\n",
    "\n",
    "    model = Model([input_layer, noise_input], output)\n",
    "    return model\n"
   ]
  },
  {
   "cell_type": "code",
   "execution_count": 33,
   "metadata": {},
   "outputs": [
    {
     "name": "stderr",
     "output_type": "stream",
     "text": [
      "/Users/devanshurana/Desktop/Projects/text_2_image-gan/.venv/lib/python3.12/site-packages/keras/src/layers/activations/leaky_relu.py:41: UserWarning: Argument `alpha` is deprecated. Use `negative_slope` instead.\n",
      "  warnings.warn(\n"
     ]
    }
   ],
   "source": [
    "# Load the generator\n",
    "generator = build_generator()\n",
    "generator.load_weights('generator.h5')\n"
   ]
  },
  {
   "cell_type": "code",
   "execution_count": 34,
   "metadata": {},
   "outputs": [],
   "source": [
    "def generate_and_display_image(embedding):\n",
    "    z_noise = np.random.normal(0, 1, (1, z_dim))\n",
    "    generated_img = generator.predict([embedding, z_noise])\n",
    "\n",
    "    img = (generated_img[0] + 1) / 2  # Rescale to [0, 1]\n",
    "    plt.imshow(img)\n",
    "    plt.axis('off')\n",
    "    plt.show()"
   ]
  },
  {
   "cell_type": "code",
   "execution_count": 35,
   "metadata": {},
   "outputs": [
    {
     "name": "stdout",
     "output_type": "stream",
     "text": [
      "\u001b[1m1/1\u001b[0m \u001b[32m━━━━━━━━━━━━━━━━━━━━\u001b[0m\u001b[37m\u001b[0m \u001b[1m0s\u001b[0m 243ms/step\n"
     ]
    },
    {
     "data": {
      "image/png": "[encoded data removed]",
      "text/plain": [
       "<Figure size 640x480 with 1 Axes>"
      ]
     },
     "metadata": {},
     "output_type": "display_data"
    }
   ],
   "source": [
    "# Test the generator with one embedding\n",
    "single_embedding = embeddings_test[0:1, :]  # Get one embedding\n",
    "generate_and_display_image(single_embedding)\n"
   ]
  },
  {
   "cell_type": "code",
   "execution_count": null,
   "metadata": {},
   "outputs": [],
   "source": []
  }
 ],
 "metadata": {
  "kernelspec": {
   "display_name": ".venv",
   "language": "python",
   "name": "python3"
  },
  "language_info": {
   "codemirror_mode": {
    "name": "ipython",
    "version": 3
   },
   "file_extension": ".py",
   "mimetype": "text/x-python",
   "name": "python",
   "nbconvert_exporter": "python",
   "pygments_lexer": "ipython3",
   "version": "3.12.2"
  }
 },
 "nbformat": 4,
 "nbformat_minor": 2
}
